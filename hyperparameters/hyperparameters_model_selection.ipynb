{
  "nbformat": 4,
  "nbformat_minor": 0,
  "metadata": {
    "colab": {
      "name": "Hyper-Parameter Tuning and Model Selection, Like a Movie Star",
      "provenance": []
    },
    "kernelspec": {
      "name": "python3",
      "display_name": "Python 3"
    }
  },
  "cells": [
    {
      "cell_type": "markdown",
      "metadata": {
        "id": "ZR758DJS8mqM",
        "colab_type": "text"
      },
      "source": [
        "# Baseline and Grid Search"
      ]
    },
    {
      "cell_type": "code",
      "metadata": {
        "id": "CzPY4IfqpzlF",
        "colab_type": "code",
        "colab": {}
      },
      "source": [
        "### RUN TO IGNORE DEPRECATION WARNINGS ###\n",
        "def warn(*args, **kwargs):\n",
        "    pass\n",
        "import warnings\n",
        "warnings.warn = warn"
      ],
      "execution_count": 0,
      "outputs": []
    },
    {
      "cell_type": "code",
      "metadata": {
        "id": "gQiKUfbfiLg2",
        "colab_type": "code",
        "outputId": "776b421c-5b22-468e-8067-d1bddd2221a7",
        "colab": {
          "base_uri": "https://localhost:8080/",
          "height": 105
        }
      },
      "source": [
        "# import packages\n",
        "import numpy as np\n",
        "from sklearn import linear_model, datasets\n",
        "from sklearn.model_selection import GridSearchCV\n",
        "from sklearn.linear_model import LogisticRegression \n",
        "from sklearn.ensemble import RandomForestClassifier \n",
        "from sklearn.model_selection import GridSearchCV \n",
        "from sklearn.pipeline import Pipeline\n",
        "\n",
        "# Loading dataset\n",
        "iris = datasets.load_iris()\n",
        "features = iris.data\n",
        "target = iris.target\n",
        "\n",
        "# Create model\n",
        "logistic = linear_model.LogisticRegression()\n",
        "logistic"
      ],
      "execution_count": 0,
      "outputs": [
        {
          "output_type": "execute_result",
          "data": {
            "text/plain": [
              "LogisticRegression(C=1.0, class_weight=None, dual=False, fit_intercept=True,\n",
              "                   intercept_scaling=1, l1_ratio=None, max_iter=100,\n",
              "                   multi_class='warn', n_jobs=None, penalty='l2',\n",
              "                   random_state=None, solver='warn', tol=0.0001, verbose=0,\n",
              "                   warm_start=False)"
            ]
          },
          "metadata": {
            "tags": []
          },
          "execution_count": 5
        }
      ]
    },
    {
      "cell_type": "code",
      "metadata": {
        "id": "bOsBpVp3UwJQ",
        "colab_type": "code",
        "outputId": "1ff6d3a8-b45c-4b8b-f060-3dfe85200681",
        "colab": {
          "base_uri": "https://localhost:8080/",
          "height": 35
        }
      },
      "source": [
        "# baseline logistic model\n",
        "logistic.fit(features, target)\n",
        "print(logistic.score(features, target))"
      ],
      "execution_count": 0,
      "outputs": [
        {
          "output_type": "stream",
          "text": [
            "0.96\n"
          ],
          "name": "stdout"
        }
      ]
    },
    {
      "cell_type": "code",
      "metadata": {
        "id": "3YYGFwUGDoda",
        "colab_type": "code",
        "outputId": "78e29b86-9320-4a01-fdd9-1b879e38e329",
        "colab": {
          "base_uri": "https://localhost:8080/",
          "height": 70
        }
      },
      "source": [
        "# Create range of candidate penalty hyperparameter values\n",
        "penalty = ['l1', 'l2']\n",
        "\n",
        "# Create range of candidate regularization hyperparameter values C\n",
        "### Choose 10 values, between 0 and 4\n",
        "C = np.logspace(0, 4, 10)\n",
        "\n",
        "# Create dictionary hyperparameter candidates\n",
        "hyperparameters = dict(C=C, penalty=penalty) \n",
        "print(hyperparameters)"
      ],
      "execution_count": 0,
      "outputs": [
        {
          "output_type": "stream",
          "text": [
            "{'C': array([1.00000000e+00, 2.78255940e+00, 7.74263683e+00, 2.15443469e+01,\n",
            "       5.99484250e+01, 1.66810054e+02, 4.64158883e+02, 1.29154967e+03,\n",
            "       3.59381366e+03, 1.00000000e+04]), 'penalty': ['l1', 'l2']}\n"
          ],
          "name": "stdout"
        }
      ]
    },
    {
      "cell_type": "code",
      "metadata": {
        "id": "wausfg57rodK",
        "colab_type": "code",
        "outputId": "d69907b3-2ca0-449e-bca3-0f1ecf7dddfc",
        "colab": {
          "base_uri": "https://localhost:8080/",
          "height": 70
        }
      },
      "source": [
        "# Create grid search, and pass in all defined values\n",
        "gridsearch = GridSearchCV(logistic, hyperparameters, cv=5, verbose=1) # Fit grid search\n",
        "best_model = gridsearch.fit(features, target)"
      ],
      "execution_count": 0,
      "outputs": [
        {
          "output_type": "stream",
          "text": [
            "Fitting 5 folds for each of 20 candidates, totalling 100 fits\n"
          ],
          "name": "stdout"
        },
        {
          "output_type": "stream",
          "text": [
            "[Parallel(n_jobs=1)]: Using backend SequentialBackend with 1 concurrent workers.\n",
            "[Parallel(n_jobs=1)]: Done 100 out of 100 | elapsed:    1.5s finished\n"
          ],
          "name": "stderr"
        }
      ]
    },
    {
      "cell_type": "code",
      "metadata": {
        "id": "IrPSjWCzilEO",
        "colab_type": "code",
        "outputId": "1aad2a7e-ea1e-44ee-f72f-f79ac0dff47e",
        "colab": {
          "base_uri": "https://localhost:8080/",
          "height": 70
        }
      },
      "source": [
        "print('Best Penalty:', best_model.best_estimator_.get_params()['penalty']) \n",
        "print('Best C:', best_model.best_estimator_.get_params()['C'])\n",
        "print(\"The mean accuracy of the model is:\",best_model.score(features, target))"
      ],
      "execution_count": 0,
      "outputs": [
        {
          "output_type": "stream",
          "text": [
            "Best Penalty: l1\n",
            "Best C: 7.742636826811269\n",
            "The mean accuracy of the model is: 0.98\n"
          ],
          "name": "stdout"
        }
      ]
    },
    {
      "cell_type": "markdown",
      "metadata": {
        "id": "5XUIrJ498s8y",
        "colab_type": "text"
      },
      "source": [
        "# Pipeline on Multipe Algorithms"
      ]
    },
    {
      "cell_type": "code",
      "metadata": {
        "id": "ORsFha3W8vqF",
        "colab_type": "code",
        "colab": {}
      },
      "source": [
        "# Load data\n",
        "iris = datasets.load_iris()\n",
        "features = iris.data\n",
        "target = iris.target"
      ],
      "execution_count": 0,
      "outputs": []
    },
    {
      "cell_type": "code",
      "metadata": {
        "id": "XL8EZqJ887Hd",
        "colab_type": "code",
        "colab": {}
      },
      "source": [
        "# Create a pipeline\n",
        "pipe = Pipeline([(\"classifier\", LogisticRegression())])\n",
        "\n",
        "# Create dictionary with candidate learning algorithms and their hyperparameters\n",
        "search_space = [\n",
        "                {\"classifier\": [LogisticRegression()],\n",
        "                 \"classifier__penalty\": ['l2','l1'],\n",
        "                 \"classifier__C\": np.logspace(0, 4, 10)\n",
        "                 },\n",
        "                {\"classifier\": [LogisticRegression()],\n",
        "                 \"classifier__penalty\": ['l2'],\n",
        "                 \"classifier__C\": np.logspace(0, 4, 10),\n",
        "                 \"classifier__solver\":['newton-cg','saga','sag','liblinear'] ##This solvers don't allow L1 penalty\n",
        "                 },\n",
        "                {\"classifier\": [RandomForestClassifier()],\n",
        "                 \"classifier__n_estimators\": [10, 100, 1000],\n",
        "                 \"classifier__max_depth\":[5,8,15,25,30,None],\n",
        "                 \"classifier__min_samples_leaf\":[1,2,5,10,15,100],\n",
        "                 \"classifier__max_leaf_nodes\": [2, 5,10]}]"
      ],
      "execution_count": 0,
      "outputs": []
    },
    {
      "cell_type": "code",
      "metadata": {
        "id": "3t6W73zO9AWZ",
        "colab_type": "code",
        "colab": {}
      },
      "source": [
        "# Create grid search\n",
        "gridsearch = GridSearchCV(pipe, search_space, cv=5, verbose=0,n_jobs=-1) # Fit grid search\n",
        "best_model = gridsearch.fit(features, target)"
      ],
      "execution_count": 0,
      "outputs": []
    },
    {
      "cell_type": "code",
      "metadata": {
        "id": "BXVD1CpB9ESG",
        "colab_type": "code",
        "outputId": "9585b9fc-6193-47e4-a762-d2c764bd1ca1",
        "colab": {
          "base_uri": "https://localhost:8080/",
          "height": 211
        }
      },
      "source": [
        "print(best_model.best_estimator_)\n",
        "print(\"The mean accuracy of the model is:\",best_model.score(features, target))"
      ],
      "execution_count": 0,
      "outputs": [
        {
          "output_type": "stream",
          "text": [
            "Pipeline(memory=None,\n",
            "         steps=[('classifier',\n",
            "                 LogisticRegression(C=7.742636826811269, class_weight=None,\n",
            "                                    dual=False, fit_intercept=True,\n",
            "                                    intercept_scaling=1, l1_ratio=None,\n",
            "                                    max_iter=100, multi_class='warn',\n",
            "                                    n_jobs=None, penalty='l1',\n",
            "                                    random_state=None, solver='warn',\n",
            "                                    tol=0.0001, verbose=0, warm_start=False))],\n",
            "         verbose=False)\n",
            "The mean accuracy of the model is: 0.98\n"
          ],
          "name": "stdout"
        }
      ]
    },
    {
      "cell_type": "markdown",
      "metadata": {
        "id": "8ZHJIwHd9Gix",
        "colab_type": "text"
      },
      "source": [
        "# Predefined Functions"
      ]
    },
    {
      "cell_type": "code",
      "metadata": {
        "id": "l9XphE8A9IBS",
        "colab_type": "code",
        "colab": {}
      },
      "source": [
        "# # # Hyperparameter tuning and model selection\n",
        "import numpy as np\n",
        "from sklearn import linear_model\n",
        "from sklearn import datasets\n",
        "from sklearn.linear_model import LogisticRegression \n",
        "from sklearn.ensemble import RandomForestClassifier \n",
        "from sklearn.model_selection import GridSearchCV \n",
        "from sklearn.pipeline import Pipeline\n",
        "from sklearn.model_selection import RandomizedSearchCV\n",
        "from sklearn.model_selection import GridSearchCV\n",
        "from sklearn.ensemble import RandomForestRegressor\n",
        "\n",
        "def perform_gridsearch_log(features, labels,\n",
        "                       log_params = {'penalty': ['l1', 'l2'], 'C': np.logspace(0, 4, 10)},\n",
        "                       cv=5, verbose = 1):\n",
        "  import numpy as np\n",
        "  from sklearn import linear_model, datasets\n",
        "  from sklearn.model_selection import GridSearchCV\n",
        "  \n",
        "  global best_model\n",
        "  logistic = linear_model.LogisticRegression()\n",
        "  penalty = log_params['penalty']\n",
        "  C = log_params['C']\n",
        "  hyperparameters = dict(C=C, penalty=penalty) \n",
        "\n",
        "  gridsearch = GridSearchCV(logistic, hyperparameters, cv=cv, verbose=verbose) # Fit grid search\n",
        "  best_model = gridsearch.fit(features, target)\n",
        "  \n",
        "  print(best_model.best_estimator_)\n",
        "  print(\"The mean accuracy of the model is:\",best_model.score(features, labels))\n",
        "\n",
        "def rand_forest_rand_grid(features, labels, n_estimators = [int(x) for x in np.linspace(start = 200, stop = 2000, num = 10)],\n",
        "                                           max_features = ['auto', 'sqrt'],\n",
        "                                           max_depth = [int(x) for x in np.linspace(10, 110, num = 11)],\n",
        "                                           min_samples_split = [2, 5, 10],\n",
        "                                           min_samples_leaf = [1, 2, 4], bootstrap = [True, False]):\n",
        "  \n",
        "  max_depth.append(None)\n",
        "  global best_model\n",
        " \n",
        "  random_grid = {'n_estimators': n_estimators,\n",
        "                 'max_features': max_features,\n",
        "                 'max_depth': max_depth,\n",
        "                 'min_samples_split': min_samples_split,\n",
        "                 'min_samples_leaf': min_samples_leaf,\n",
        "                 'bootstrap': bootstrap}\n",
        "  \n",
        "  rf = RandomForestRegressor()\n",
        "  \n",
        "  rf_random = RandomizedSearchCV(estimator = rf, param_distributions = random_grid, n_iter = 100, cv = 3, verbose=1, random_state=42, n_jobs = -1)\n",
        "  \n",
        "  best_model = rf_random.fit(features, labels)\n",
        "  print(best_model.best_estimator_)\n",
        "  print(\"The mean accuracy of the model is:\",best_model.score(features, labels))\n",
        "\n",
        "\n",
        "def rand_forest_grid_search(features, labels, n_estimators = [int(x) for x in np.linspace(start = 200, stop = 2000, num = 10)],\n",
        "                                           max_features = ['auto', 'sqrt'],\n",
        "                                           max_depth = [int(x) for x in np.linspace(10, 110, num = 11)],\n",
        "                                           min_samples_split = [2, 5, 10],\n",
        "                                           min_samples_leaf = [1, 2, 4], bootstrap = [True, False]):\n",
        "  param_grid = {'n_estimators': n_estimators,\n",
        "                 'max_features': max_features,\n",
        "                 'max_depth': max_depth,\n",
        "                 'min_samples_split': min_samples_split,\n",
        "                 'min_samples_leaf': min_samples_leaf,\n",
        "                 'bootstrap': bootstrap}\n",
        "  \n",
        "  global best_model\n",
        "  rf = RandomForestRegressor()\n",
        "  \n",
        "  grid_search = GridSearchCV(estimator = rf, param_grid = param_grid, \n",
        "                          cv = 3, n_jobs = -1, verbose = 1)\n",
        "\n",
        "  best_model = grid_search.fit(train_features, train_labels)\n",
        "  print(best_model.best_estimator_)\n",
        "  print(\"The mean accuracy of the model is:\",best_model.score(features, labels))\n",
        "\n",
        "def execute_pipeline(features,labels, search_space=[\n",
        "                {\"classifier\": [LogisticRegression()],\n",
        "                 \"classifier__penalty\": ['l2','l1'],\n",
        "                 \"classifier__C\": np.logspace(0, 4, 10)\n",
        "                 },\n",
        "                {\"classifier\": [LogisticRegression()],\n",
        "                 \"classifier__penalty\": ['l2'],\n",
        "                 \"classifier__C\": np.logspace(0, 4, 10),\n",
        "                 \"classifier__solver\":['newton-cg','saga','sag','liblinear'] ##This solvers don't allow L1 penalty\n",
        "                 },\n",
        "                {\"classifier\": [RandomForestClassifier()],\n",
        "                 \"classifier__n_estimators\": [10, 100, 1000],\n",
        "                 \"classifier__max_depth\":[5,8,15,25,30,None],\n",
        "                 \"classifier__min_samples_leaf\":[1,2,5,10,15,100],\n",
        "                 \"classifier__max_leaf_nodes\": [2, 5,10]}], cv=5, verbose=0, n_jobs=-1):\n",
        "\n",
        "  global best_model\n",
        "  \n",
        "  pipe = Pipeline([(\"classifier\", RandomForestClassifier())])\n",
        "  \n",
        "  gridsearch = GridSearchCV(pipe, search_space, cv=cv, verbose=verbose,n_jobs=n_jobs) # Fit grid search\n",
        "  best_model = gridsearch.fit(features, labels)\n",
        "  print(best_model.best_estimator_)\n",
        "  print(\"The mean accuracy of the model is:\",best_model.score(features, labels))"
      ],
      "execution_count": 0,
      "outputs": []
    },
    {
      "cell_type": "markdown",
      "metadata": {
        "id": "Cp6Io66gFg_B",
        "colab_type": "text"
      },
      "source": [
        "# Visualizations"
      ]
    },
    {
      "cell_type": "code",
      "metadata": {
        "id": "yFtRqa5C_Deh",
        "colab_type": "code",
        "outputId": "2f17350a-f4c3-444a-cc1d-7259957586ea",
        "colab": {
          "base_uri": "https://localhost:8080/",
          "height": 35
        }
      },
      "source": [
        "import numpy as np\n",
        "import matplotlib.pyplot as plt\n",
        "import seaborn as sns\n",
        "sns.set_style('dark')\n",
        "from sklearn.ensemble import RandomForestClassifier \n",
        "from sklearn.datasets import load_digits\n",
        "from sklearn.model_selection import learning_curve\n",
        "# Load data\n",
        "digits = load_digits()\n",
        "# Create feature matrix and target vector\n",
        "features, target = digits.data, digits.target\n",
        "print(\"The shape of the features is:\",features.shape)"
      ],
      "execution_count": 0,
      "outputs": [
        {
          "output_type": "stream",
          "text": [
            "The shape of the features is: (1797, 64)\n"
          ],
          "name": "stdout"
        }
      ]
    },
    {
      "cell_type": "code",
      "metadata": {
        "id": "5EbL6kI7UHAP",
        "colab_type": "code",
        "outputId": "9787d0e0-6c28-44ec-ee3c-a38b3814669e",
        "colab": {
          "base_uri": "https://localhost:8080/",
          "height": 35
        }
      },
      "source": [
        "# Create CV training and test scores for various training set sizes \n",
        "train_sizes, train_scores, test_scores = learning_curve(# Classifier\n",
        "        RandomForestClassifier(), # Feature matrix features,\n",
        "        y=target,\n",
        "        X = features,\n",
        "        # Number of folds \n",
        "        cv=10,\n",
        "        # Performance metric \n",
        "        scoring='accuracy',\n",
        "# Use all computer cores \n",
        "        n_jobs=-1,\n",
        "# Sizes of 50training set\n",
        "train_sizes=np.linspace(0.01,1.0,50))\n",
        "print(len(train_sizes))"
      ],
      "execution_count": 0,
      "outputs": [
        {
          "output_type": "stream",
          "text": [
            "50\n"
          ],
          "name": "stdout"
        }
      ]
    },
    {
      "cell_type": "code",
      "metadata": {
        "id": "hgSPVhKPUf90",
        "colab_type": "code",
        "colab": {}
      },
      "source": [
        "# Create means and standard deviations of training set scores\n",
        "train_mean = np.mean(train_scores, axis=1)\n",
        "train_std = np.std(train_scores, axis=1)\n",
        "# Create means and standard deviations of test set scores\n",
        "test_mean = np.mean(test_scores, axis=1)\n",
        "test_std = np.std(test_scores, axis=1)"
      ],
      "execution_count": 0,
      "outputs": []
    },
    {
      "cell_type": "code",
      "metadata": {
        "id": "App2T7UHVWev",
        "colab_type": "code",
        "outputId": "7f03e19d-6f87-41f8-e1be-5b9bb36af6a8",
        "colab": {
          "base_uri": "https://localhost:8080/",
          "height": 297
        }
      },
      "source": [
        "# Draw lines\n",
        "plt.plot(train_sizes, train_mean, '--', color=\"#111111\",  label=\"Training score\")\n",
        "plt.plot(train_sizes, test_mean, color=\"#111111\", label=\"Cross-validation score\")\n",
        "# Draw bands\n",
        "plt.fill_between(train_sizes, train_mean - train_std,\n",
        "                 train_mean + train_std, color=\"#DDDDDD\")\n",
        "plt.fill_between(train_sizes, test_mean - test_std,\n",
        "                 test_mean + test_std, color=\"#DDDDDD\")\n",
        "# Create plot\n",
        "plt.title(\"Learning Curve\")\n",
        "plt.xlabel(\"Training Set Size\"), plt.ylabel(\"Accuracy Score\"),\n",
        "plt.legend(loc=\"best\")\n",
        "plt.tight_layout()\n",
        "plt.show()"
      ],
      "execution_count": 0,
      "outputs": [
        {
          "output_type": "display_data",
          "data": {
            "image/png": "[encoded data removed]",
            "text/plain": [
              "<Figure size 432x288 with 1 Axes>"
            ]
          },
          "metadata": {
            "tags": []
          }
        }
      ]
    },
    {
      "cell_type": "markdown",
      "metadata": {
        "id": "Qni-0rlLV5LG",
        "colab_type": "text"
      },
      "source": [
        "## Visualizing the Effect of Change in Hyperparameters"
      ]
    },
    {
      "cell_type": "code",
      "metadata": {
        "id": "xKvK9lrgTJna",
        "colab_type": "code",
        "colab": {}
      },
      "source": [
        " # Load libraries\n",
        "import matplotlib.pyplot as plt\n",
        "import numpy as np\n",
        "from sklearn.datasets import load_digits\n",
        "from sklearn.linear_model import LogisticRegression \n",
        "from sklearn.ensemble import RandomForestClassifier \n",
        "from sklearn.model_selection import validation_curve\n",
        "# Load data\n",
        "digits = load_digits()\n",
        "# Create feature matrix and target vector\n",
        "features, target = digits.data, digits.target # Create range of values for parameter\n"
      ],
      "execution_count": 0,
      "outputs": []
    },
    {
      "cell_type": "code",
      "metadata": {
        "id": "eB0A5S5dXq5U",
        "colab_type": "code",
        "outputId": "b4ceae0f-9430-494c-eabf-23de0ddc7a66",
        "colab": {
          "base_uri": "https://localhost:8080/",
          "height": 138
        }
      },
      "source": [
        "param_range = np.arange(1, 250, 2)\n",
        "print(param_range)\n",
        "# Calculate accuracy on training and test set using range of parameter values\n",
        "\n",
        "train_scores, test_scores = validation_curve( # Classifier\n",
        "                            RandomForestClassifier(), \n",
        "                            # Feature matrix features,\n",
        "                            X=features,\n",
        "                            # Target vector\n",
        "                            y=target,\n",
        "                            # Hyperparameter to examine \n",
        "                            param_name=\"n_estimators\",\n",
        "                            # Range of hyperparameter's values \n",
        "                            param_range=param_range,\n",
        "                            # Number of folds\n",
        "                            cv=3,\n",
        "                            # Performance metric scoring=\"accuracy\",\n",
        "                            # Use all computer cores \n",
        "                            n_jobs=-1)\n"
      ],
      "execution_count": 0,
      "outputs": [
        {
          "output_type": "stream",
          "text": [
            "[  1   3   5   7   9  11  13  15  17  19  21  23  25  27  29  31  33  35\n",
            "  37  39  41  43  45  47  49  51  53  55  57  59  61  63  65  67  69  71\n",
            "  73  75  77  79  81  83  85  87  89  91  93  95  97  99 101 103 105 107\n",
            " 109 111 113 115 117 119 121 123 125 127 129 131 133 135 137 139 141 143\n",
            " 145 147 149 151 153 155 157 159 161 163 165 167 169 171 173 175 177 179\n",
            " 181 183 185 187 189 191 193 195 197 199 201 203 205 207 209 211 213 215\n",
            " 217 219 221 223 225 227 229 231 233 235 237 239 241 243 245 247 249]\n"
          ],
          "name": "stdout"
        }
      ]
    },
    {
      "cell_type": "code",
      "metadata": {
        "id": "i8vuYsnsXxpN",
        "colab_type": "code",
        "colab": {}
      },
      "source": [
        "# Calculate mean and standard deviation for training set scores\n",
        "train_mean = np.mean(train_scores, axis=1)\n",
        "train_std = np.std(train_scores, axis=1)\n",
        "# Calculate mean and standard deviation for test set scores\n",
        "test_mean = np.mean(test_scores, axis=1)\n",
        "test_std = np.std(test_scores, axis=1)"
      ],
      "execution_count": 0,
      "outputs": []
    },
    {
      "cell_type": "code",
      "metadata": {
        "id": "TIxCUY4RX2Jn",
        "colab_type": "code",
        "outputId": "7c7ead6d-1399-471a-aa56-5d7fc3ca4c09",
        "colab": {
          "base_uri": "https://localhost:8080/",
          "height": 297
        }
      },
      "source": [
        "# Plot mean accuracy scores for training and test sets\n",
        "# # # #\n",
        "plt.plot(param_range, train_mean, label=\"Training score\", color=\"black\")\n",
        "plt.plot(param_range, test_mean, label=\"Cross-validation score\", color=\"dimgrey\")\n",
        "# # # # \n",
        "# Plot accurancy bands for training and test sets\n",
        "plt.fill_between(param_range, test_mean - test_std,\n",
        "                 test_mean + test_std, color=\"gainsboro\")\n",
        "# Create plot\n",
        "plt.title(\"Validation Curve With Random Forest\")\n",
        "plt.xlabel(\"Number Of Trees\")\n",
        "plt.ylabel(\"Accuracy Score\")\n",
        "plt.tight_layout()\n",
        "plt.legend(loc=\"best\")\n",
        "plt.show()"
      ],
      "execution_count": 0,
      "outputs": [
        {
          "output_type": "display_data",
          "data": {
            "image/png": "[encoded data removed]",
            "text/plain": [
              "<Figure size 432x288 with 1 Axes>"
            ]
          },
          "metadata": {
            "tags": []
          }
        }
      ]
    },
    {
      "cell_type": "code",
      "metadata": {
        "id": "7-f8JPTRSyDe",
        "colab_type": "code",
        "outputId": "9f569e8e-48e0-4de7-bfb2-de4d58e4c0d9",
        "colab": {
          "base_uri": "https://localhost:8080/",
          "height": 297
        }
      },
      "source": [
        " # Load libraries\n",
        "import matplotlib.pyplot as plt\n",
        "import numpy as np\n",
        "from sklearn.datasets import load_digits\n",
        "from sklearn.linear_model import LogisticRegression \n",
        "from sklearn.ensemble import RandomForestClassifier \n",
        "from sklearn.model_selection import validation_curve\n",
        "# Load data\n",
        "digits = load_digits()\n",
        "# Create feature matrix and target vector\n",
        "features, target = digits.data, digits.target # Create range of values for parameter\n",
        "param_range = np.arange(.05, 1, 0.05)\n",
        "# Calculate accuracy on training and test set using range of parameter values\n",
        "\n",
        "train_scores, test_scores = validation_curve( # Classifier\n",
        "                            LogisticRegression(), \n",
        "                            # Feature matrix features,\n",
        "                            X=features,\n",
        "                            # Target vector\n",
        "                            y=target,\n",
        "                            # Hyperparameter to examine \n",
        "                            param_name=\"C\",\n",
        "                            # Range of hyperparameter's values \n",
        "                            param_range=param_range,\n",
        "                            # Number of folds\n",
        "                            cv=3,\n",
        "                            # Performance metric scoring=\"accuracy\",\n",
        "                            # Use all computer cores \n",
        "                            n_jobs=-1)\n",
        "\n",
        "\n",
        "# Calculate mean and standard deviation for training set scores\n",
        "train_mean = np.mean(train_scores, axis=1)\n",
        "train_std = np.std(train_scores, axis=1)\n",
        "# Calculate mean and standard deviation for test set scores\n",
        "test_mean = np.mean(test_scores, axis=1)\n",
        "test_std = np.std(test_scores, axis=1)\n",
        "# Plot mean accuracy scores for training and test sets\n",
        "# # # #\n",
        "plt.plot(param_range, train_mean, label=\"Training score\", color=\"black\")\n",
        "plt.plot(param_range, test_mean, label=\"Cross-validation score\", color=\"dimgrey\")\n",
        "# # # # \n",
        "\n",
        "# Create plot\n",
        "plt.title(\"Validation Curve With Logistic Regression\")\n",
        "plt.xlabel(\"Values of Hyperparameter C\")\n",
        "plt.ylabel(\"Accuracy Score\")\n",
        "plt.tight_layout()\n",
        "plt.legend(loc=\"best\")\n",
        "plt.show()"
      ],
      "execution_count": 0,
      "outputs": [
        {
          "output_type": "display_data",
          "data": {
            "image/png": "[encoded data removed]",
            "text/plain": [
              "<Figure size 432x288 with 1 Axes>"
            ]
          },
          "metadata": {
            "tags": []
          }
        }
      ]
    },
    {
      "cell_type": "code",
      "metadata": {
        "id": "SwW2WXNIioKa",
        "colab_type": "code",
        "outputId": "1961071c-3d0c-4646-c57e-9a85d46a53f6",
        "colab": {
          "base_uri": "https://localhost:8080/",
          "height": 104
        }
      },
      "source": [
        "\"C= np.logspace(0, 100, 20)\n",
        "print(C)"
      ],
      "execution_count": 0,
      "outputs": [
        {
          "output_type": "stream",
          "text": [
            "[1.00000000e+000 1.83298071e+005 3.35981829e+010 6.15848211e+015\n",
            " 1.12883789e+021 2.06913808e+026 3.79269019e+031 6.95192796e+036\n",
            " 1.27427499e+042 2.33572147e+047 4.28133240e+052 7.84759970e+057\n",
            " 1.43844989e+063 2.63665090e+068 4.83293024e+073 8.85866790e+078\n",
            " 1.62377674e+084 2.97635144e+089 5.45559478e+094 1.00000000e+100]\n"
          ],
          "name": "stdout"
        }
      ]
    },
    {
      "cell_type": "code",
      "metadata": {
        "id": "BCvvLUFoipmK",
        "colab_type": "code",
        "outputId": "3f0bc615-9944-4b63-b30f-eb2d3d17b75e",
        "colab": {
          "base_uri": "https://localhost:8080/",
          "height": 138
        }
      },
      "source": [
        "param_range = np.arange(1, 250, 2)\n",
        "print(param_range)"
      ],
      "execution_count": 0,
      "outputs": [
        {
          "output_type": "stream",
          "text": [
            "[  1   3   5   7   9  11  13  15  17  19  21  23  25  27  29  31  33  35\n",
            "  37  39  41  43  45  47  49  51  53  55  57  59  61  63  65  67  69  71\n",
            "  73  75  77  79  81  83  85  87  89  91  93  95  97  99 101 103 105 107\n",
            " 109 111 113 115 117 119 121 123 125 127 129 131 133 135 137 139 141 143\n",
            " 145 147 149 151 153 155 157 159 161 163 165 167 169 171 173 175 177 179\n",
            " 181 183 185 187 189 191 193 195 197 199 201 203 205 207 209 211 213 215\n",
            " 217 219 221 223 225 227 229 231 233 235 237 239 241 243 245 247 249]\n"
          ],
          "name": "stdout"
        }
      ]
    }
  ]
}
